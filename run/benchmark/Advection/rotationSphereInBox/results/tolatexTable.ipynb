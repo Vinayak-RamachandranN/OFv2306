{
 "cells": [
  {
   "cell_type": "code",
   "execution_count": 1,
   "metadata": {
    "collapsed": true
   },
   "outputs": [],
   "source": [
    "import pandas as pd\n"
   ]
  },
  {
   "cell_type": "code",
   "execution_count": 2,
   "metadata": {},
   "outputs": [],
   "source": [
    "df = pd.read_csv(\"hex-isoAlpha\",delim_whitespace=True,header=None)"
   ]
  },
  {
   "cell_type": "code",
   "execution_count": 3,
   "metadata": {},
   "outputs": [],
   "source": [
    "df2 =  df.loc[:,2:6]"
   ]
  },
  {
   "cell_type": "code",
   "execution_count": 4,
   "metadata": {},
   "outputs": [],
   "source": [
    "df2[2] = df2[2].apply(lambda x: '%.3e' % x)\n",
    "df2[7] = df2[6]\n",
    "df2[6] = df2[5]\n",
    "df2[5] = df2[7]+df2[6]"
   ]
  },
  {
   "cell_type": "code",
   "execution_count": 5,
   "metadata": {},
   "outputs": [],
   "source": [
    "dfLatexString = pd.DataFrame(columns=[0, 1, 2, 3, 4, 5 ])\n",
    "dfLatexString =  df2.astype(str)"
   ]
  },
  {
   "cell_type": "code",
   "execution_count": 6,
   "metadata": {},
   "outputs": [],
   "source": [
    "dfLatexString[2] = \"\\num{\" + dfLatexString[2] + \"}\"\n",
    "dfLatexString[3] = \"\\num{\" + dfLatexString[3] + \"}\"\n",
    "dfLatexString[4] = \"\\num{\" + dfLatexString[4] + \"}\""
   ]
  },
  {
   "cell_type": "code",
   "execution_count": 7,
   "metadata": {},
   "outputs": [
    {
     "data": {
      "text/html": [
       "<div>\n",
       "<style>\n",
       "    .dataframe thead tr:only-child th {\n",
       "        text-align: right;\n",
       "    }\n",
       "\n",
       "    .dataframe thead th {\n",
       "        text-align: left;\n",
       "    }\n",
       "\n",
       "    .dataframe tbody tr th {\n",
       "        vertical-align: top;\n",
       "    }\n",
       "</style>\n",
       "<table border=\"1\" class=\"dataframe\">\n",
       "  <thead>\n",
       "    <tr style=\"text-align: right;\">\n",
       "      <th></th>\n",
       "      <th>2</th>\n",
       "      <th>3</th>\n",
       "      <th>4</th>\n",
       "      <th>5</th>\n",
       "      <th>6</th>\n",
       "      <th>7</th>\n",
       "    </tr>\n",
       "  </thead>\n",
       "  <tbody>\n",
       "    <tr>\n",
       "      <th>0</th>\n",
       "      <td>\\num{6.871e-04}</td>\n",
       "      <td>\\num{2.134e-16}</td>\n",
       "      <td>\\num{4.58e-21}</td>\n",
       "      <td>0.007454</td>\n",
       "      <td>0.004167</td>\n",
       "      <td>0.003287</td>\n",
       "    </tr>\n",
       "    <tr>\n",
       "      <th>1</th>\n",
       "      <td>\\num{1.855e-04}</td>\n",
       "      <td>\\num{1.06e-15}</td>\n",
       "      <td>\\num{1.104e-13}</td>\n",
       "      <td>0.05949</td>\n",
       "      <td>0.02624</td>\n",
       "      <td>0.03325</td>\n",
       "    </tr>\n",
       "    <tr>\n",
       "      <th>2</th>\n",
       "      <td>\\num{5.026e-05}</td>\n",
       "      <td>\\num{5.483e-15}</td>\n",
       "      <td>\\num{1.573e-13}</td>\n",
       "      <td>0.3654</td>\n",
       "      <td>0.1029</td>\n",
       "      <td>0.2625</td>\n",
       "    </tr>\n",
       "    <tr>\n",
       "      <th>3</th>\n",
       "      <td>\\num{1.536e-05}</td>\n",
       "      <td>\\num{1.461e-14}</td>\n",
       "      <td>\\num{4.241e-15}</td>\n",
       "      <td>2.6844</td>\n",
       "      <td>0.6144</td>\n",
       "      <td>2.07</td>\n",
       "    </tr>\n",
       "  </tbody>\n",
       "</table>\n",
       "</div>"
      ],
      "text/plain": [
       "                 2                3                4         5         6  \\\n",
       "0  \\num{6.871e-04}  \\num{2.134e-16}   \\num{4.58e-21}  0.007454  0.004167   \n",
       "1  \\num{1.855e-04}   \\num{1.06e-15}  \\num{1.104e-13}   0.05949   0.02624   \n",
       "2  \\num{5.026e-05}  \\num{5.483e-15}  \\num{1.573e-13}    0.3654    0.1029   \n",
       "3  \\num{1.536e-05}  \\num{1.461e-14}  \\num{4.241e-15}    2.6844    0.6144   \n",
       "\n",
       "          7  \n",
       "0  0.003287  \n",
       "1   0.03325  \n",
       "2    0.2625  \n",
       "3      2.07  "
      ]
     },
     "execution_count": 7,
     "metadata": {},
     "output_type": "execute_result"
    }
   ],
   "source": [
    "dfLatexString"
   ]
  },
  {
   "cell_type": "code",
   "execution_count": 8,
   "metadata": {
    "collapsed": true
   },
   "outputs": [],
   "source": [
    "dfLatexString.to_latex(\"latexTab.tex\",escape=False)"
   ]
  }
 ],
 "metadata": {
  "kernelspec": {
   "display_name": "Python 3",
   "language": "python",
   "name": "python3"
  },
  "language_info": {
   "codemirror_mode": {
    "name": "ipython",
    "version": 3
   },
   "file_extension": ".py",
   "mimetype": "text/x-python",
   "name": "python",
   "nbconvert_exporter": "python",
   "pygments_lexer": "ipython3",
   "version": "3.6.3"
  }
 },
 "nbformat": 4,
 "nbformat_minor": 2
}
